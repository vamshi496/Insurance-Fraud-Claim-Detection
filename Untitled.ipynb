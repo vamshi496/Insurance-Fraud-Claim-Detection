{
 "cells": [
  {
   "cell_type": "code",
   "execution_count": 27,
   "metadata": {},
   "outputs": [],
   "source": [
    "\n",
    "\n",
    "\n",
    "\n",
    "\n",
    "\n",
    "\n",
    "\n",
    "\n",
    "\n",
    "\n",
    "\n",
    "\n",
    "\n",
    "\n",
    "import numpy as np\n",
    "import pandas as pd\n",
    "import datetime\n",
    "from scipy.stats import chi2_contingency,f_oneway\n",
    "import matplotlib.pyplot as plt\n",
    "import warnings\n",
    "warnings.filterwarnings('ignore')\n",
    "from sklearn.model_selection import train_test_split\n",
    "from sklearn.preprocessing import StandardScaler\n",
    "from sklearn.linear_model import LogisticRegression\n",
    "from sklearn.metrics import confusion_matrix,precision_score,recall_score,f1_score,roc_curve,roc_auc_score\n",
    "\n"
   ]
  },
  {
   "cell_type": "code",
   "execution_count": 13,
   "metadata": {},
   "outputs": [],
   "source": [
    "#reading the dataframe \n",
    "insurance_df=pd.read_csv('insurance_claims.csv')\n",
    "insurance_df_copy=insurance_df.copy()\n",
    "fraud_reported_dict={'Y':1,'N':0}\n",
    "insurance_df.replace({'fraud_reported':fraud_reported_dict},inplace=True) #replacing all 'Yes' with 1 and 'No' with 0\n",
    "y=insurance_df['fraud_reported'] #copying output column data into a variable\n",
    "insurance_df.drop(columns='fraud_reported',inplace=True) #dropping output column."
   ]
  },
  {
   "cell_type": "code",
   "execution_count": 14,
   "metadata": {},
   "outputs": [
    {
     "data": {
      "text/html": [
       "<div>\n",
       "<style scoped>\n",
       "    .dataframe tbody tr th:only-of-type {\n",
       "        vertical-align: middle;\n",
       "    }\n",
       "\n",
       "    .dataframe tbody tr th {\n",
       "        vertical-align: top;\n",
       "    }\n",
       "\n",
       "    .dataframe thead th {\n",
       "        text-align: right;\n",
       "    }\n",
       "</style>\n",
       "<table border=\"1\" class=\"dataframe\">\n",
       "  <thead>\n",
       "    <tr style=\"text-align: right;\">\n",
       "      <th></th>\n",
       "      <th>months_as_customer</th>\n",
       "      <th>age</th>\n",
       "      <th>policy_number</th>\n",
       "      <th>policy_bind_date</th>\n",
       "      <th>policy_state</th>\n",
       "      <th>policy_csl</th>\n",
       "      <th>policy_deductable</th>\n",
       "      <th>policy_annual_premium</th>\n",
       "      <th>umbrella_limit</th>\n",
       "      <th>insured_zip</th>\n",
       "      <th>...</th>\n",
       "      <th>bodily_injuries</th>\n",
       "      <th>witnesses</th>\n",
       "      <th>police_report_available</th>\n",
       "      <th>total_claim_amount</th>\n",
       "      <th>injury_claim</th>\n",
       "      <th>property_claim</th>\n",
       "      <th>vehicle_claim</th>\n",
       "      <th>auto_make</th>\n",
       "      <th>auto_model</th>\n",
       "      <th>auto_year</th>\n",
       "    </tr>\n",
       "  </thead>\n",
       "  <tbody>\n",
       "    <tr>\n",
       "      <th>0</th>\n",
       "      <td>328</td>\n",
       "      <td>48</td>\n",
       "      <td>521585</td>\n",
       "      <td>17-10-2014</td>\n",
       "      <td>OH</td>\n",
       "      <td>250/500</td>\n",
       "      <td>1000</td>\n",
       "      <td>1406.91</td>\n",
       "      <td>0</td>\n",
       "      <td>466132</td>\n",
       "      <td>...</td>\n",
       "      <td>1</td>\n",
       "      <td>2</td>\n",
       "      <td>YES</td>\n",
       "      <td>71610</td>\n",
       "      <td>6510</td>\n",
       "      <td>13020</td>\n",
       "      <td>52080</td>\n",
       "      <td>Saab</td>\n",
       "      <td>92x</td>\n",
       "      <td>2004</td>\n",
       "    </tr>\n",
       "    <tr>\n",
       "      <th>1</th>\n",
       "      <td>228</td>\n",
       "      <td>42</td>\n",
       "      <td>342868</td>\n",
       "      <td>27-06-2006</td>\n",
       "      <td>IN</td>\n",
       "      <td>250/500</td>\n",
       "      <td>2000</td>\n",
       "      <td>1197.22</td>\n",
       "      <td>5000000</td>\n",
       "      <td>468176</td>\n",
       "      <td>...</td>\n",
       "      <td>0</td>\n",
       "      <td>0</td>\n",
       "      <td>?</td>\n",
       "      <td>5070</td>\n",
       "      <td>780</td>\n",
       "      <td>780</td>\n",
       "      <td>3510</td>\n",
       "      <td>Mercedes</td>\n",
       "      <td>E400</td>\n",
       "      <td>2007</td>\n",
       "    </tr>\n",
       "    <tr>\n",
       "      <th>2</th>\n",
       "      <td>134</td>\n",
       "      <td>29</td>\n",
       "      <td>687698</td>\n",
       "      <td>06-09-2000</td>\n",
       "      <td>OH</td>\n",
       "      <td>100/300</td>\n",
       "      <td>2000</td>\n",
       "      <td>1413.14</td>\n",
       "      <td>5000000</td>\n",
       "      <td>430632</td>\n",
       "      <td>...</td>\n",
       "      <td>2</td>\n",
       "      <td>3</td>\n",
       "      <td>NO</td>\n",
       "      <td>34650</td>\n",
       "      <td>7700</td>\n",
       "      <td>3850</td>\n",
       "      <td>23100</td>\n",
       "      <td>Dodge</td>\n",
       "      <td>RAM</td>\n",
       "      <td>2007</td>\n",
       "    </tr>\n",
       "    <tr>\n",
       "      <th>3</th>\n",
       "      <td>256</td>\n",
       "      <td>41</td>\n",
       "      <td>227811</td>\n",
       "      <td>25-05-1990</td>\n",
       "      <td>IL</td>\n",
       "      <td>250/500</td>\n",
       "      <td>2000</td>\n",
       "      <td>1415.74</td>\n",
       "      <td>6000000</td>\n",
       "      <td>608117</td>\n",
       "      <td>...</td>\n",
       "      <td>1</td>\n",
       "      <td>2</td>\n",
       "      <td>NO</td>\n",
       "      <td>63400</td>\n",
       "      <td>6340</td>\n",
       "      <td>6340</td>\n",
       "      <td>50720</td>\n",
       "      <td>Chevrolet</td>\n",
       "      <td>Tahoe</td>\n",
       "      <td>2014</td>\n",
       "    </tr>\n",
       "    <tr>\n",
       "      <th>4</th>\n",
       "      <td>228</td>\n",
       "      <td>44</td>\n",
       "      <td>367455</td>\n",
       "      <td>06-06-2014</td>\n",
       "      <td>IL</td>\n",
       "      <td>500/1000</td>\n",
       "      <td>1000</td>\n",
       "      <td>1583.91</td>\n",
       "      <td>6000000</td>\n",
       "      <td>610706</td>\n",
       "      <td>...</td>\n",
       "      <td>0</td>\n",
       "      <td>1</td>\n",
       "      <td>NO</td>\n",
       "      <td>6500</td>\n",
       "      <td>1300</td>\n",
       "      <td>650</td>\n",
       "      <td>4550</td>\n",
       "      <td>Accura</td>\n",
       "      <td>RSX</td>\n",
       "      <td>2009</td>\n",
       "    </tr>\n",
       "    <tr>\n",
       "      <th>...</th>\n",
       "      <td>...</td>\n",
       "      <td>...</td>\n",
       "      <td>...</td>\n",
       "      <td>...</td>\n",
       "      <td>...</td>\n",
       "      <td>...</td>\n",
       "      <td>...</td>\n",
       "      <td>...</td>\n",
       "      <td>...</td>\n",
       "      <td>...</td>\n",
       "      <td>...</td>\n",
       "      <td>...</td>\n",
       "      <td>...</td>\n",
       "      <td>...</td>\n",
       "      <td>...</td>\n",
       "      <td>...</td>\n",
       "      <td>...</td>\n",
       "      <td>...</td>\n",
       "      <td>...</td>\n",
       "      <td>...</td>\n",
       "      <td>...</td>\n",
       "    </tr>\n",
       "    <tr>\n",
       "      <th>995</th>\n",
       "      <td>3</td>\n",
       "      <td>38</td>\n",
       "      <td>941851</td>\n",
       "      <td>16-07-1991</td>\n",
       "      <td>OH</td>\n",
       "      <td>500/1000</td>\n",
       "      <td>1000</td>\n",
       "      <td>1310.80</td>\n",
       "      <td>0</td>\n",
       "      <td>431289</td>\n",
       "      <td>...</td>\n",
       "      <td>0</td>\n",
       "      <td>1</td>\n",
       "      <td>?</td>\n",
       "      <td>87200</td>\n",
       "      <td>17440</td>\n",
       "      <td>8720</td>\n",
       "      <td>61040</td>\n",
       "      <td>Honda</td>\n",
       "      <td>Accord</td>\n",
       "      <td>2006</td>\n",
       "    </tr>\n",
       "    <tr>\n",
       "      <th>996</th>\n",
       "      <td>285</td>\n",
       "      <td>41</td>\n",
       "      <td>186934</td>\n",
       "      <td>05-01-2014</td>\n",
       "      <td>IL</td>\n",
       "      <td>100/300</td>\n",
       "      <td>1000</td>\n",
       "      <td>1436.79</td>\n",
       "      <td>0</td>\n",
       "      <td>608177</td>\n",
       "      <td>...</td>\n",
       "      <td>2</td>\n",
       "      <td>3</td>\n",
       "      <td>?</td>\n",
       "      <td>108480</td>\n",
       "      <td>18080</td>\n",
       "      <td>18080</td>\n",
       "      <td>72320</td>\n",
       "      <td>Volkswagen</td>\n",
       "      <td>Passat</td>\n",
       "      <td>2015</td>\n",
       "    </tr>\n",
       "    <tr>\n",
       "      <th>997</th>\n",
       "      <td>130</td>\n",
       "      <td>34</td>\n",
       "      <td>918516</td>\n",
       "      <td>17-02-2003</td>\n",
       "      <td>OH</td>\n",
       "      <td>250/500</td>\n",
       "      <td>500</td>\n",
       "      <td>1383.49</td>\n",
       "      <td>3000000</td>\n",
       "      <td>442797</td>\n",
       "      <td>...</td>\n",
       "      <td>2</td>\n",
       "      <td>3</td>\n",
       "      <td>YES</td>\n",
       "      <td>67500</td>\n",
       "      <td>7500</td>\n",
       "      <td>7500</td>\n",
       "      <td>52500</td>\n",
       "      <td>Suburu</td>\n",
       "      <td>Impreza</td>\n",
       "      <td>1996</td>\n",
       "    </tr>\n",
       "    <tr>\n",
       "      <th>998</th>\n",
       "      <td>458</td>\n",
       "      <td>62</td>\n",
       "      <td>533940</td>\n",
       "      <td>18-11-2011</td>\n",
       "      <td>IL</td>\n",
       "      <td>500/1000</td>\n",
       "      <td>2000</td>\n",
       "      <td>1356.92</td>\n",
       "      <td>5000000</td>\n",
       "      <td>441714</td>\n",
       "      <td>...</td>\n",
       "      <td>0</td>\n",
       "      <td>1</td>\n",
       "      <td>YES</td>\n",
       "      <td>46980</td>\n",
       "      <td>5220</td>\n",
       "      <td>5220</td>\n",
       "      <td>36540</td>\n",
       "      <td>Audi</td>\n",
       "      <td>A5</td>\n",
       "      <td>1998</td>\n",
       "    </tr>\n",
       "    <tr>\n",
       "      <th>999</th>\n",
       "      <td>456</td>\n",
       "      <td>60</td>\n",
       "      <td>556080</td>\n",
       "      <td>11-11-1996</td>\n",
       "      <td>OH</td>\n",
       "      <td>250/500</td>\n",
       "      <td>1000</td>\n",
       "      <td>766.19</td>\n",
       "      <td>0</td>\n",
       "      <td>612260</td>\n",
       "      <td>...</td>\n",
       "      <td>0</td>\n",
       "      <td>3</td>\n",
       "      <td>?</td>\n",
       "      <td>5060</td>\n",
       "      <td>460</td>\n",
       "      <td>920</td>\n",
       "      <td>3680</td>\n",
       "      <td>Mercedes</td>\n",
       "      <td>E400</td>\n",
       "      <td>2007</td>\n",
       "    </tr>\n",
       "  </tbody>\n",
       "</table>\n",
       "<p>1000 rows × 38 columns</p>\n",
       "</div>"
      ],
      "text/plain": [
       "     months_as_customer  age  policy_number policy_bind_date policy_state  \\\n",
       "0                   328   48         521585       17-10-2014           OH   \n",
       "1                   228   42         342868       27-06-2006           IN   \n",
       "2                   134   29         687698       06-09-2000           OH   \n",
       "3                   256   41         227811       25-05-1990           IL   \n",
       "4                   228   44         367455       06-06-2014           IL   \n",
       "..                  ...  ...            ...              ...          ...   \n",
       "995                   3   38         941851       16-07-1991           OH   \n",
       "996                 285   41         186934       05-01-2014           IL   \n",
       "997                 130   34         918516       17-02-2003           OH   \n",
       "998                 458   62         533940       18-11-2011           IL   \n",
       "999                 456   60         556080       11-11-1996           OH   \n",
       "\n",
       "    policy_csl  policy_deductable  policy_annual_premium  umbrella_limit  \\\n",
       "0      250/500               1000                1406.91               0   \n",
       "1      250/500               2000                1197.22         5000000   \n",
       "2      100/300               2000                1413.14         5000000   \n",
       "3      250/500               2000                1415.74         6000000   \n",
       "4     500/1000               1000                1583.91         6000000   \n",
       "..         ...                ...                    ...             ...   \n",
       "995   500/1000               1000                1310.80               0   \n",
       "996    100/300               1000                1436.79               0   \n",
       "997    250/500                500                1383.49         3000000   \n",
       "998   500/1000               2000                1356.92         5000000   \n",
       "999    250/500               1000                 766.19               0   \n",
       "\n",
       "     insured_zip  ... bodily_injuries witnesses police_report_available  \\\n",
       "0         466132  ...               1         2                     YES   \n",
       "1         468176  ...               0         0                       ?   \n",
       "2         430632  ...               2         3                      NO   \n",
       "3         608117  ...               1         2                      NO   \n",
       "4         610706  ...               0         1                      NO   \n",
       "..           ...  ...             ...       ...                     ...   \n",
       "995       431289  ...               0         1                       ?   \n",
       "996       608177  ...               2         3                       ?   \n",
       "997       442797  ...               2         3                     YES   \n",
       "998       441714  ...               0         1                     YES   \n",
       "999       612260  ...               0         3                       ?   \n",
       "\n",
       "    total_claim_amount injury_claim  property_claim  vehicle_claim  \\\n",
       "0                71610         6510           13020          52080   \n",
       "1                 5070          780             780           3510   \n",
       "2                34650         7700            3850          23100   \n",
       "3                63400         6340            6340          50720   \n",
       "4                 6500         1300             650           4550   \n",
       "..                 ...          ...             ...            ...   \n",
       "995              87200        17440            8720          61040   \n",
       "996             108480        18080           18080          72320   \n",
       "997              67500         7500            7500          52500   \n",
       "998              46980         5220            5220          36540   \n",
       "999               5060          460             920           3680   \n",
       "\n",
       "      auto_make auto_model auto_year  \n",
       "0          Saab        92x      2004  \n",
       "1      Mercedes       E400      2007  \n",
       "2         Dodge        RAM      2007  \n",
       "3     Chevrolet      Tahoe      2014  \n",
       "4        Accura        RSX      2009  \n",
       "..          ...        ...       ...  \n",
       "995       Honda     Accord      2006  \n",
       "996  Volkswagen     Passat      2015  \n",
       "997      Suburu    Impreza      1996  \n",
       "998        Audi         A5      1998  \n",
       "999    Mercedes       E400      2007  \n",
       "\n",
       "[1000 rows x 38 columns]"
      ]
     },
     "execution_count": 14,
     "metadata": {},
     "output_type": "execute_result"
    }
   ],
   "source": [
    "insurance_df"
   ]
  },
  {
   "cell_type": "code",
   "execution_count": 15,
   "metadata": {},
   "outputs": [
    {
     "data": {
      "text/plain": [
       "0      1\n",
       "1      1\n",
       "2      0\n",
       "3      1\n",
       "4      0\n",
       "      ..\n",
       "995    0\n",
       "996    0\n",
       "997    0\n",
       "998    0\n",
       "999    0\n",
       "Name: fraud_reported, Length: 1000, dtype: int64"
      ]
     },
     "execution_count": 15,
     "metadata": {},
     "output_type": "execute_result"
    }
   ],
   "source": [
    "y"
   ]
  },
  {
   "cell_type": "code",
   "execution_count": 50,
   "metadata": {},
   "outputs": [
    {
     "data": {
      "text/plain": [
       "0     2015-01-25\n",
       "1     2015-01-21\n",
       "2     2015-02-22\n",
       "3     2015-10-01\n",
       "4     2015-02-17\n",
       "         ...    \n",
       "995   2015-02-22\n",
       "996   2015-01-24\n",
       "997   2015-01-23\n",
       "998   2015-02-26\n",
       "999   2015-02-26\n",
       "Name: incident_date, Length: 1000, dtype: datetime64[ns]"
      ]
     },
     "execution_count": 50,
     "metadata": {},
     "output_type": "execute_result"
    }
   ],
   "source": [
    "insurance_df['policy_bind_date']=pd.to_datetime(insurance_df['policy_bind_date'],errors='coerce')\n",
    "insurance_df['policy_bind_date']\n",
    "insurance_df['incident_date']=pd.to_datetime(insurance_df['incident_date'],errors='coerce')\n",
    "insurance_df['incident_date']"
   ]
  },
  {
   "cell_type": "code",
   "execution_count": 51,
   "metadata": {},
   "outputs": [],
   "source": [
    "#correlation check\n",
    "#CHI-SQUARE test\n",
    "correlated_columns=[]\n",
    "for col in insurance_df.columns:\n",
    "    if insurance_df[col].dtype=='object':\n",
    "        contigency_table=pd.crosstab(insurance_df[col],y)\n",
    "        res=chi2_contingency(contigency_table)\n",
    "        if res[1]<0.05:\n",
    "            correlated_columns.append(col)\n",
    "\n",
    "#ANNOVA test\n",
    "catogories_list=list(insurance_df_copy['fraud_reported'].value_counts().index)\n",
    "con_col_aftrdropng=[col for col in insurance_df.columns if insurance_df[col].dtype=='int64' or insurance_df[col].dtype=='float64']\n",
    "insurance_df['policy_bind_date']=pd.to_datetime(insurance_df['policy_bind_date'],errors='coerce')\n",
    "for col in con_col_aftrdropng:    \n",
    "    result=f_oneway(*(insurance_df_copy[insurance_df_copy['fraud_reported']==category][col] for category in catogories_list))\n",
    "    if result[1]<0.05:\n",
    "        correlated_columns.append(col)\n",
    "corr_df=insurance_df[correlated_columns]\n"
   ]
  },
  {
   "cell_type": "code",
   "execution_count": 53,
   "metadata": {},
   "outputs": [
    {
     "data": {
      "text/plain": [
       "months_as_customer                      int64\n",
       "age                                     int64\n",
       "policy_number                           int64\n",
       "policy_bind_date               datetime64[ns]\n",
       "policy_state                           object\n",
       "policy_csl                             object\n",
       "policy_deductable                       int64\n",
       "policy_annual_premium                 float64\n",
       "umbrella_limit                          int64\n",
       "insured_zip                             int64\n",
       "insured_sex                            object\n",
       "insured_education_level                object\n",
       "insured_occupation                     object\n",
       "insured_hobbies                        object\n",
       "insured_relationship                   object\n",
       "capital-gains                           int64\n",
       "capital-loss                            int64\n",
       "incident_date                  datetime64[ns]\n",
       "incident_type                          object\n",
       "collision_type                         object\n",
       "incident_severity                      object\n",
       "authorities_contacted                  object\n",
       "incident_state                         object\n",
       "incident_city                          object\n",
       "incident_location                      object\n",
       "incident_hour_of_the_day                int64\n",
       "number_of_vehicles_involved             int64\n",
       "property_damage                        object\n",
       "bodily_injuries                         int64\n",
       "witnesses                               int64\n",
       "police_report_available                object\n",
       "total_claim_amount                      int64\n",
       "injury_claim                            int64\n",
       "property_claim                          int64\n",
       "vehicle_claim                           int64\n",
       "auto_make                              object\n",
       "auto_model                             object\n",
       "auto_year                               int64\n",
       "dtype: object"
      ]
     },
     "execution_count": 53,
     "metadata": {},
     "output_type": "execute_result"
    }
   ],
   "source": [
    "insurance_df.isnull().sum()\n",
    "insurance_df.dtypes"
   ]
  },
  {
   "cell_type": "code",
   "execution_count": 54,
   "metadata": {},
   "outputs": [],
   "source": [
    "#train-test-split\n",
    "x_train,x_test,y_train,y_test=train_test_split(corr_df,y,test_size=0.2,random_state=42)"
   ]
  },
  {
   "cell_type": "code",
   "execution_count": 55,
   "metadata": {},
   "outputs": [],
   "source": [
    "#scaling the continuous variables\n",
    "scaler=StandardScaler()\n",
    "con_cols=[col for col in x_train.columns if x_train[col].dtype=='int64' or x_train[col].dtype=='float64']\n",
    "for col in con_cols:\n",
    "    x_train[col]=scaler.fit_transform(np.array(x_train[col]).reshape(-1,1))\n",
    "    x_test[col]=scaler.transform(np.array(x_test[col]).reshape(-1,1))\n"
   ]
  },
  {
   "cell_type": "code",
   "execution_count": 56,
   "metadata": {},
   "outputs": [],
   "source": [
    "#one-hot coding for categorical variables\n",
    "oe_train=pd.get_dummies(x_train[[col for col in x_train.columns if x_train[col].dtype=='object']])\n",
    "oe_test=pd.get_dummies(x_test[[col for col in x_test.columns if x_test[col].dtype=='object']])\n",
    "oe_train_final,oe_test_final=oe_train.align(oe_test,join='inner',axis=1)\n",
    "#oe_train_final"
   ]
  },
  {
   "cell_type": "code",
   "execution_count": 57,
   "metadata": {},
   "outputs": [],
   "source": [
    "#getting final train and test inputs.\n",
    "x_train_final=pd.concat([x_train[con_cols],oe_train_final],axis=1)\n",
    "x_test_final=pd.concat([x_test[con_cols],oe_test_final],axis=1)"
   ]
  },
  {
   "cell_type": "code",
   "execution_count": 58,
   "metadata": {},
   "outputs": [
    {
     "data": {
      "text/plain": [
       "LogisticRegression()"
      ]
     },
     "execution_count": 58,
     "metadata": {},
     "output_type": "execute_result"
    }
   ],
   "source": [
    "#Training the model\n",
    "logreg=LogisticRegression()\n",
    "logreg.fit(x_train_final,y_train)"
   ]
  },
  {
   "cell_type": "code",
   "execution_count": 59,
   "metadata": {},
   "outputs": [
    {
     "data": {
      "text/plain": [
       "array([0, 0, 0, 0, 0, 0, 0, 0, 0, 0, 0, 0, 0, 1, 1, 0, 0, 0, 1, 1, 0, 0,\n",
       "       0, 0, 0, 0, 0, 0, 0, 0, 0, 0, 0, 0, 1, 1, 0, 0, 0, 0, 1, 1, 0, 0,\n",
       "       1, 1, 0, 0, 0, 0, 0, 0, 1, 0, 1, 0, 0, 0, 0, 0, 0, 0, 1, 0, 0, 0,\n",
       "       0, 0, 0, 0, 0, 0, 1, 0, 1, 0, 1, 1, 0, 1, 0, 0, 1, 0, 0, 0, 1, 1,\n",
       "       0, 0, 0, 0, 0, 0, 0, 0, 0, 0, 1, 0, 0, 1, 0, 0, 1, 0, 0, 0, 0, 1,\n",
       "       0, 0, 1, 0, 0, 1, 1, 0, 0, 0, 0, 0, 1, 0, 0, 0, 0, 1, 0, 0, 0, 0,\n",
       "       0, 0, 1, 0, 0, 0, 1, 0, 0, 1, 0, 0, 0, 1, 0, 0, 0, 1, 0, 0, 1, 0,\n",
       "       0, 1, 0, 1, 1, 0, 1, 1, 0, 1, 1, 1, 0, 1, 0, 1, 1, 1, 0, 0, 0, 0,\n",
       "       1, 0, 0, 0, 1, 0, 0, 0, 1, 0, 0, 1, 0, 0, 0, 1, 0, 0, 1, 0, 0, 0,\n",
       "       0, 0], dtype=int64)"
      ]
     },
     "execution_count": 59,
     "metadata": {},
     "output_type": "execute_result"
    }
   ],
   "source": [
    "#getting predictions on test inputs\n",
    "pred=logreg.predict(x_test_final)\n",
    "pred"
   ]
  },
  {
   "cell_type": "code",
   "execution_count": 60,
   "metadata": {},
   "outputs": [
    {
     "data": {
      "text/plain": [
       "array([0.04591681, 0.04810655, 0.04368781, 0.06491695, 0.13224005,\n",
       "       0.04459907, 0.23066277, 0.43236418, 0.03892717, 0.08334918,\n",
       "       0.0104904 , 0.01187215, 0.08829362, 0.66464456, 0.62046272,\n",
       "       0.03241877, 0.0299653 , 0.39484958, 0.63613099, 0.6118208 ,\n",
       "       0.03403   , 0.00714687, 0.0436716 , 0.03034469, 0.06744454,\n",
       "       0.01219519, 0.38533262, 0.03470355, 0.04198698, 0.07624049,\n",
       "       0.06721215, 0.10295067, 0.09356549, 0.02174779, 0.60429656,\n",
       "       0.65583219, 0.0707241 , 0.03639239, 0.05780555, 0.02355807,\n",
       "       0.61500838, 0.61769343, 0.12199478, 0.46080791, 0.80923717,\n",
       "       0.58154075, 0.03853978, 0.0844459 , 0.06843208, 0.00711855,\n",
       "       0.04764755, 0.16949552, 0.6885375 , 0.08932031, 0.58508165,\n",
       "       0.49497454, 0.05516529, 0.06427536, 0.06620372, 0.01903338,\n",
       "       0.0835616 , 0.1338902 , 0.63367596, 0.03413398, 0.06392793,\n",
       "       0.06833785, 0.06526978, 0.04526027, 0.45029205, 0.04122191,\n",
       "       0.25231338, 0.0904948 , 0.61932722, 0.04546236, 0.67577846,\n",
       "       0.14208044, 0.82521287, 0.71237377, 0.04425988, 0.52044751,\n",
       "       0.0188331 , 0.03286468, 0.78690709, 0.02464571, 0.1989704 ,\n",
       "       0.04304709, 0.81926501, 0.62085347, 0.10509354, 0.22428532,\n",
       "       0.04669034, 0.02427021, 0.07375227, 0.04593297, 0.12101006,\n",
       "       0.46097193, 0.05226228, 0.01049641, 0.52166057, 0.08312848,\n",
       "       0.08433132, 0.53828455, 0.14770069, 0.08096977, 0.52849501,\n",
       "       0.08203823, 0.09253163, 0.09197255, 0.0649472 , 0.97372187,\n",
       "       0.02776056, 0.42536824, 0.5515068 , 0.06091915, 0.17442222,\n",
       "       0.76828963, 0.58188341, 0.04153088, 0.02802658, 0.03466437,\n",
       "       0.03592536, 0.34625179, 0.62803307, 0.0429446 , 0.40606828,\n",
       "       0.05212064, 0.06548014, 0.80610545, 0.04599806, 0.22644756,\n",
       "       0.42080823, 0.04386452, 0.03970272, 0.03403985, 0.7386594 ,\n",
       "       0.05810773, 0.06364627, 0.02845184, 0.73713677, 0.05433485,\n",
       "       0.13152178, 0.60056051, 0.02143865, 0.42688708, 0.02792931,\n",
       "       0.95823064, 0.0315138 , 0.0420065 , 0.01994204, 0.84627296,\n",
       "       0.42610236, 0.03472398, 0.55057374, 0.08049978, 0.40959867,\n",
       "       0.69821056, 0.01397279, 0.78085282, 0.59545972, 0.02861405,\n",
       "       0.72777275, 0.66871768, 0.45305284, 0.95215105, 0.68860733,\n",
       "       0.58620587, 0.01619513, 0.5247759 , 0.02361542, 0.56206357,\n",
       "       0.57878672, 0.58551327, 0.18160552, 0.09617175, 0.034941  ,\n",
       "       0.49354355, 0.67137817, 0.49309159, 0.07069222, 0.03148002,\n",
       "       0.79016334, 0.02403158, 0.07850301, 0.3682296 , 0.96469055,\n",
       "       0.02256226, 0.01304232, 0.62090491, 0.06690288, 0.01925304,\n",
       "       0.03033626, 0.65829724, 0.12903288, 0.07759842, 0.60340732,\n",
       "       0.04923787, 0.03917214, 0.06433369, 0.13579693, 0.02910903])"
      ]
     },
     "execution_count": 60,
     "metadata": {},
     "output_type": "execute_result"
    }
   ],
   "source": [
    "#getting prediction probabilities\n",
    "probabilities=logreg.predict_proba(x_test_final)\n",
    "pos_prob=probabilities[::,1]\n",
    "pos_prob"
   ]
  },
  {
   "cell_type": "code",
   "execution_count": 61,
   "metadata": {},
   "outputs": [
    {
     "data": {
      "text/plain": [
       "array([[127,  18],\n",
       "       [ 19,  36]], dtype=int64)"
      ]
     },
     "execution_count": 61,
     "metadata": {},
     "output_type": "execute_result"
    }
   ],
   "source": [
    "confusion_matrix(y_test,pred)"
   ]
  },
  {
   "cell_type": "code",
   "execution_count": 62,
   "metadata": {},
   "outputs": [
    {
     "data": {
      "text/plain": [
       "0.6666666666666666"
      ]
     },
     "execution_count": 62,
     "metadata": {},
     "output_type": "execute_result"
    }
   ],
   "source": [
    "precision_score(y_test,pred)"
   ]
  },
  {
   "cell_type": "code",
   "execution_count": 63,
   "metadata": {},
   "outputs": [
    {
     "data": {
      "text/plain": [
       "0.6545454545454545"
      ]
     },
     "execution_count": 63,
     "metadata": {},
     "output_type": "execute_result"
    }
   ],
   "source": [
    "recall_score(y_test,pred)"
   ]
  },
  {
   "cell_type": "code",
   "execution_count": 64,
   "metadata": {},
   "outputs": [
    {
     "data": {
      "text/plain": [
       "0.6605504587155963"
      ]
     },
     "execution_count": 64,
     "metadata": {},
     "output_type": "execute_result"
    }
   ],
   "source": [
    "f1_score(y_test,pred)"
   ]
  },
  {
   "cell_type": "code",
   "execution_count": 65,
   "metadata": {},
   "outputs": [
    {
     "data": {
      "text/plain": [
       "(array([0.        , 0.00689655, 0.00689655, 0.0137931 , 0.0137931 ,\n",
       "        0.02068966, 0.02068966, 0.03448276, 0.03448276, 0.04827586,\n",
       "        0.04827586, 0.05517241, 0.05517241, 0.06206897, 0.06206897,\n",
       "        0.06896552, 0.06896552, 0.07586207, 0.07586207, 0.08275862,\n",
       "        0.08275862, 0.08965517, 0.08965517, 0.09655172, 0.09655172,\n",
       "        0.10344828, 0.10344828, 0.11034483, 0.11034483, 0.11724138,\n",
       "        0.11724138, 0.12413793, 0.12413793, 0.13103448, 0.13103448,\n",
       "        0.13793103, 0.13793103, 0.15172414, 0.15172414, 0.16551724,\n",
       "        0.16551724, 0.60689655, 0.60689655, 0.6137931 , 0.6137931 ,\n",
       "        0.76551724, 0.76551724, 0.7862069 , 0.7862069 , 0.84137931,\n",
       "        0.84137931, 1.        , 1.        ]),\n",
       " array([0.        , 0.        , 0.01818182, 0.01818182, 0.03636364,\n",
       "        0.03636364, 0.05454545, 0.05454545, 0.09090909, 0.09090909,\n",
       "        0.14545455, 0.14545455, 0.25454545, 0.25454545, 0.29090909,\n",
       "        0.29090909, 0.30909091, 0.30909091, 0.34545455, 0.34545455,\n",
       "        0.36363636, 0.36363636, 0.41818182, 0.41818182, 0.47272727,\n",
       "        0.47272727, 0.50909091, 0.50909091, 0.56363636, 0.56363636,\n",
       "        0.61818182, 0.61818182, 0.65454545, 0.65454545, 0.69090909,\n",
       "        0.69090909, 0.81818182, 0.81818182, 0.85454545, 0.85454545,\n",
       "        0.87272727, 0.87272727, 0.89090909, 0.89090909, 0.90909091,\n",
       "        0.90909091, 0.94545455, 0.94545455, 0.96363636, 0.96363636,\n",
       "        0.98181818, 0.98181818, 1.        ]),\n",
       " array([1.97372187, 0.97372187, 0.96469055, 0.95823064, 0.95215105,\n",
       "        0.84627296, 0.82521287, 0.80923717, 0.79016334, 0.78085282,\n",
       "        0.73713677, 0.72777275, 0.67137817, 0.66871768, 0.65829724,\n",
       "        0.65583219, 0.63613099, 0.63367596, 0.62090491, 0.62085347,\n",
       "        0.62046272, 0.61932722, 0.6118208 , 0.60429656, 0.59545972,\n",
       "        0.58620587, 0.58508165, 0.58188341, 0.56206357, 0.5515068 ,\n",
       "        0.52849501, 0.5247759 , 0.52044751, 0.49497454, 0.49309159,\n",
       "        0.46097193, 0.42536824, 0.40959867, 0.39484958, 0.3682296 ,\n",
       "        0.34625179, 0.04764755, 0.04669034, 0.04599806, 0.04593297,\n",
       "        0.03472398, 0.03466437, 0.03403   , 0.03286468, 0.02861405,\n",
       "        0.02845184, 0.00714687, 0.00711855]))"
      ]
     },
     "execution_count": 65,
     "metadata": {},
     "output_type": "execute_result"
    }
   ],
   "source": [
    "fpr,tpr,thresholds=roc_curve(y_test,pos_prob) #false positive rate and true positive rate values to plot au_roc curve\n",
    "fpr,tpr,thresholds"
   ]
  },
  {
   "cell_type": "code",
   "execution_count": 66,
   "metadata": {},
   "outputs": [
    {
     "data": {
      "text/plain": [
       "Text(0, 0.5, 'True positive rate')"
      ]
     },
     "execution_count": 66,
     "metadata": {},
     "output_type": "execute_result"
    },
    {
     "data": {
      "image/png": "[encoded data removed]",
      "text/plain": [
       "<Figure size 432x288 with 1 Axes>"
      ]
     },
     "metadata": {
      "needs_background": "light"
     },
     "output_type": "display_data"
    }
   ],
   "source": [
    "plt.plot(fpr,tpr) #auc_roc curve plot\n",
    "plt.xlabel('False positive rate')\n",
    "plt.ylabel('True positive rate')"
   ]
  },
  {
   "cell_type": "code",
   "execution_count": 67,
   "metadata": {},
   "outputs": [
    {
     "data": {
      "text/plain": [
       "0.7652037617554859"
      ]
     },
     "execution_count": 67,
     "metadata": {},
     "output_type": "execute_result"
    }
   ],
   "source": [
    "roc_auc_score(y_test,pred) #calculating area under curve"
   ]
  }
 ],
 "metadata": {
  "kernelspec": {
   "display_name": "Python 3",
   "language": "python",
   "name": "python3"
  },
  "language_info": {
   "codemirror_mode": {
    "name": "ipython",
    "version": 3
   },
   "file_extension": ".py",
   "mimetype": "text/x-python",
   "name": "python",
   "nbconvert_exporter": "python",
   "pygments_lexer": "ipython3",
   "version": "3.8.5"
  }
 },
 "nbformat": 4,
 "nbformat_minor": 4
}
